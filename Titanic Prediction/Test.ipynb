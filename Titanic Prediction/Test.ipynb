{
 "cells": [
  {
   "cell_type": "code",
   "execution_count": 17,
   "metadata": {},
   "outputs": [],
   "source": [
    "import pandas as pd\r\n",
    "from imblearn.over_sampling import SMOTE\r\n",
    "import numpy as np\r\n",
    "from sklearn.preprocessing import MinMaxScaler\r\n",
    "from sklearn.ensemble import GradientBoostingClassifier\r\n",
    "from sklearn.impute import SimpleImputer"
   ]
  },
  {
   "cell_type": "code",
   "execution_count": 18,
   "metadata": {},
   "outputs": [],
   "source": [
    "def preprocessing_train(train_data):\r\n",
    "    X = train_data.drop(columns=['Survived'])\r\n",
    "    y = train_data['Survived']\r\n",
    "\r\n",
    "    X = X.fillna(X.mean())\r\n",
    "\r\n",
    "    X = X.drop(columns=['PassengerId', 'Name', 'Ticket', 'Cabin'])\r\n",
    "\r\n",
    "    imp = SimpleImputer(missing_values=np.nan, strategy='most_frequent')\r\n",
    "    X.values[:] = imp.fit_transform(X)\r\n",
    "\r\n",
    "    X = pd.get_dummies(X)\r\n",
    "\r\n",
    "    scaler = MinMaxScaler()\r\n",
    "    X = pd.DataFrame(scaler.fit_transform(X), columns=X.columns)\r\n",
    "\r\n",
    "    return X, y\r\n",
    "\r\n",
    "\r\n",
    "def preprocessing_test(test_data):\r\n",
    "    X = test_data\r\n",
    "\r\n",
    "    X = X.fillna(X.mean())\r\n",
    "\r\n",
    "    X = X.drop(columns=['PassengerId', 'Name', 'Ticket', 'Cabin'])\r\n",
    "\r\n",
    "    imp = SimpleImputer(missing_values=np.nan, strategy='most_frequent')\r\n",
    "    X.values[:] = imp.fit_transform(X)\r\n",
    "\r\n",
    "    X = pd.get_dummies(X)\r\n",
    "\r\n",
    "    scaler = MinMaxScaler()\r\n",
    "    X = pd.DataFrame(scaler.fit_transform(X), columns=X.columns)\r\n",
    "\r\n",
    "    return X"
   ]
  },
  {
   "cell_type": "code",
   "execution_count": 19,
   "metadata": {},
   "outputs": [],
   "source": [
    "train_data = pd.read_csv('train.csv')\r\n",
    "X_train, y_train = preprocessing_train(train_data)\r\n",
    "sm = SMOTE(random_state=0)\r\n",
    "X_train, y_train = sm.fit_resample(X_train, y_train)"
   ]
  },
  {
   "cell_type": "code",
   "execution_count": 20,
   "metadata": {},
   "outputs": [],
   "source": [
    "xgboost = GradientBoostingClassifier(n_estimators=50, learning_rate=1.0, max_depth=3, random_state=0).fit(X_train, y_train)"
   ]
  },
  {
   "cell_type": "code",
   "execution_count": 21,
   "metadata": {},
   "outputs": [],
   "source": [
    "test_data = pd.read_csv('test.csv')\r\n",
    "X_test = preprocessing_test(test_data)\r\n",
    "preds = xgboost.predict(X_test)"
   ]
  },
  {
   "cell_type": "code",
   "execution_count": 22,
   "metadata": {},
   "outputs": [],
   "source": [
    "sub = pd.DataFrame({\"PassengerId\": test_data[\"PassengerId\"], \"Survived\": preds.astype(int)})\r\n",
    "sub.to_csv('submission.csv', index=False)"
   ]
  },
  {
   "cell_type": "code",
   "execution_count": null,
   "metadata": {},
   "outputs": [],
   "source": []
  }
 ],
 "metadata": {
  "interpreter": {
   "hash": "1baa965d5efe3ac65b79dfc60c0d706280b1da80fedb7760faf2759126c4f253"
  },
  "kernelspec": {
   "display_name": "Python 3.8.7 64-bit",
   "name": "python3"
  },
  "language_info": {
   "codemirror_mode": {
    "name": "ipython",
    "version": 3
   },
   "file_extension": ".py",
   "mimetype": "text/x-python",
   "name": "python",
   "nbconvert_exporter": "python",
   "pygments_lexer": "ipython3",
   "version": "3.8.7"
  },
  "orig_nbformat": 4
 },
 "nbformat": 4,
 "nbformat_minor": 2
}