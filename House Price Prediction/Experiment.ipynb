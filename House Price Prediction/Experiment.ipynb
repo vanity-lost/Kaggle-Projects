{
 "cells": [
  {
   "cell_type": "code",
   "execution_count": 2,
   "metadata": {},
   "outputs": [],
   "source": [
    "import pandas as pd\r\n",
    "import seaborn as sns\r\n",
    "from imblearn.over_sampling import SMOTE\r\n",
    "import numpy as np\r\n",
    "from sklearn.preprocessing import MinMaxScaler\r\n",
    "from sklearn.impute import SimpleImputer\r\n",
    "from sklearn.model_selection import cross_val_score\r\n",
    "from sklearn.ensemble import GradientBoostingRegressor"
   ]
  },
  {
   "cell_type": "code",
   "execution_count": 3,
   "metadata": {},
   "outputs": [],
   "source": [
    "train_data = pd.read_csv('train.csv')\r\n",
    "test_data = pd.read_csv('test.csv')"
   ]
  },
  {
   "cell_type": "code",
   "execution_count": null,
   "metadata": {},
   "outputs": [],
   "source": [
    "def preprocessing(train_data):\r\n",
    "    X = train_data.drop(columns=['Survived'])\r\n",
    "    y = train_data['Survived']\r\n",
    "    \r\n",
    "    X['Age'] = X['Age'].fillna(X['Age'].mean())\r\n",
    "    \r\n",
    "    X = X.drop(columns=['PassengerId', 'Name', 'Ticket', 'Cabin'])\r\n",
    "    \r\n",
    "    imp = SimpleImputer(missing_values=np.nan, strategy='most_frequent')\r\n",
    "    X.values[:] = imp.fit_transform(X)\r\n",
    "    \r\n",
    "    X = pd.get_dummies(X)\r\n",
    "    \r\n",
    "    scaler = MinMaxScaler()\r\n",
    "    X = pd.DataFrame(scaler.fit_transform(X), columns = X.columns)\r\n",
    "    \r\n",
    "    return X, y"
   ]
  },
  {
   "cell_type": "code",
   "execution_count": 7,
   "metadata": {},
   "outputs": [],
   "source": [
    "train_data = pd.read_csv('train.csv')\r\n",
    "test_data = pd.read_csv('test.csv')\r\n",
    "\r\n",
    "df = pd.concat([train_data, test_data], sort=True).reset_index(drop=True)\r\n",
    "y = train_data['SalePrice']\r\n",
    "\r\n",
    "df = df.drop(columns=['Id'])\r\n",
    "\r\n",
    "df['YrBltAndRemod'] = df['YearBuilt'] + df['YearRemodAdd']\r\n",
    "df['TotalSF'] = df['TotalBsmtSF'] + df['1stFlrSF'] + df['2ndFlrSF']\r\n",
    "df['Total_sqr_footage'] = df['BsmtFinSF1'] + df['BsmtFinSF2'] + df['1stFlrSF'] + df['2ndFlrSF']\r\n",
    "df['Total_Bathrooms'] = df['FullBath'] + 0.5 * df['HalfBath'] + df['BsmtFullBath'] + 0.5 * df['BsmtHalfBath']\r\n",
    "df['Total_porch_sf'] = df['OpenPorchSF'] + df['3SsnPorch'] + df['EnclosedPorch'] + df['ScreenPorch'] + df['WoodDeckSF']\r\n",
    "\r\n",
    "imp = SimpleImputer(missing_values=np.nan, strategy='most_frequent')\r\n",
    "df.values[:] = imp.fit_transform(df)\r\n",
    "\r\n",
    "df = df.fillna(df.mean())\r\n",
    "\r\n",
    "df = pd.get_dummies(df)\r\n",
    "scaler = MinMaxScaler()\r\n",
    "df = pd.DataFrame(scaler.fit_transform(df), columns = df.columns)\r\n",
    "\r\n",
    "X = df.iloc[:len(y), :]\r\n",
    "X_sub = df.iloc[len(y):, :]"
   ]
  },
  {
   "cell_type": "code",
   "execution_count": 10,
   "metadata": {},
   "outputs": [],
   "source": [
    "reg = GradientBoostingRegressor(n_estimators=3000, learning_rate=0.05, max_depth=4, max_features='sqrt', min_samples_leaf=15, min_samples_split=10, loss='huber', random_state=0 )"
   ]
  },
  {
   "cell_type": "code",
   "execution_count": 12,
   "metadata": {},
   "outputs": [
    {
     "data": {
      "text/plain": [
       "array([-1.97010381e+08, -4.75340957e+08, -5.58173431e+08, -1.83172050e+08,\n",
       "       -6.62942383e+08])"
      ]
     },
     "execution_count": 12,
     "metadata": {},
     "output_type": "execute_result"
    }
   ],
   "source": [
    "cross_val_score(reg, X, y, scoring='neg_mean_squared_error', cv=5)"
   ]
  },
  {
   "cell_type": "code",
   "execution_count": null,
   "metadata": {},
   "outputs": [],
   "source": []
  }
 ],
 "metadata": {
  "interpreter": {
   "hash": "1baa965d5efe3ac65b79dfc60c0d706280b1da80fedb7760faf2759126c4f253"
  },
  "kernelspec": {
   "display_name": "Python 3.8.7 64-bit",
   "name": "python3"
  },
  "language_info": {
   "codemirror_mode": {
    "name": "ipython",
    "version": 3
   },
   "file_extension": ".py",
   "mimetype": "text/x-python",
   "name": "python",
   "nbconvert_exporter": "python",
   "pygments_lexer": "ipython3",
   "version": "3.8.7"
  },
  "orig_nbformat": 4
 },
 "nbformat": 4,
 "nbformat_minor": 2
}