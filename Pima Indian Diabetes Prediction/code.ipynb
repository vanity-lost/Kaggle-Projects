{
 "cells": [
  {
   "cell_type": "code",
   "execution_count": 88,
   "metadata": {},
   "outputs": [],
   "source": [
    "import pandas as pd\r\n",
    "import numpy as np\r\n",
    "from scipy import stats\r\n",
    "from imblearn.over_sampling import SMOTE, ADASYN, BorderlineSMOTE, KMeansSMOTE, SVMSMOTE\r\n",
    "from sklearn.preprocessing import MinMaxScaler, StandardScaler, LabelEncoder\r\n",
    "from sklearn.model_selection import cross_val_score\r\n",
    "from sklearn.model_selection import KFold\r\n",
    "from sklearn.linear_model import LogisticRegression\r\n",
    "from sklearn.tree import DecisionTreeClassifier\r\n",
    "from sklearn.neighbors import KNeighborsClassifier\r\n",
    "from sklearn.discriminant_analysis import LinearDiscriminantAnalysis\r\n",
    "from sklearn.naive_bayes import GaussianNB\r\n",
    "from sklearn.svm import SVC\r\n",
    "from sklearn.ensemble import RandomForestClassifier, GradientBoostingClassifier\r\n",
    "from matplotlib import pyplot as plt\r\n",
    "import seaborn as sns\r\n",
    "from sklearn.preprocessing import Normalizer\r\n",
    "from sklearn.metrics import accuracy_score, confusion_matrix\r\n",
    "from sklearn.impute import SimpleImputer\r\n",
    "from sklearn.experimental import enable_iterative_imputer\r\n",
    "from sklearn.impute import IterativeImputer\r\n",
    "from sklearn.model_selection import RandomizedSearchCV\r\n",
    "\r\n",
    "import warnings\r\n",
    "warnings.filterwarnings(action='ignore', category=UserWarning)"
   ]
  },
  {
   "cell_type": "code",
   "execution_count": 172,
   "metadata": {},
   "outputs": [],
   "source": [
    "kfold = KFold(n_splits=10, shuffle=True, random_state=0)"
   ]
  },
  {
   "cell_type": "code",
   "execution_count": 173,
   "metadata": {},
   "outputs": [],
   "source": [
    "df = pd.read_csv('diabetes.csv')\r\n",
    "\r\n",
    "df.columns = ['Preg', 'Glu', 'BP', 'ST', 'IN', 'BMI', 'DPF', 'A', 'Class']\r\n",
    "\r\n",
    "features = df.drop(columns=['Class'])\r\n",
    "y = df['Class']"
   ]
  },
  {
   "cell_type": "code",
   "execution_count": 174,
   "metadata": {},
   "outputs": [],
   "source": [
    "scaler = StandardScaler()\r\n",
    "X = scaler.fit_transform(features)"
   ]
  },
  {
   "cell_type": "code",
   "execution_count": 176,
   "metadata": {},
   "outputs": [
    {
     "name": "stdout",
     "output_type": "stream",
     "text": [
      "LR: 0.776042 (0.050357)\n",
      "LDA: 0.774727 (0.048422)\n",
      "KNN: 0.736962 (0.036357)\n",
      "CART: 0.688824 (0.048119)\n",
      "NB: 0.748633 (0.051121)\n",
      "SVM: 0.759159 (0.048690)\n"
     ]
    },
    {
     "data": {
      "image/png": "[encoded data removed]",
      "text/plain": [
       "<Figure size 432x288 with 1 Axes>"
      ]
     },
     "metadata": {
      "needs_background": "light"
     },
     "output_type": "display_data"
    }
   ],
   "source": [
    "models = []\r\n",
    "models.append(('LR', LogisticRegression(max_iter =1000)))\r\n",
    "models.append(('LDA', LinearDiscriminantAnalysis()))\r\n",
    "models.append(('KNN', KNeighborsClassifier()))\r\n",
    "models.append(('CART', DecisionTreeClassifier()))\r\n",
    "models.append(('NB', GaussianNB()))\r\n",
    "models.append(('SVM', SVC(max_iter =1000)))\r\n",
    "\r\n",
    "# evaluate each model in turn\r\n",
    "results = []\r\n",
    "names = []\r\n",
    "scoring = 'accuracy'\r\n",
    "for name, model in models:\r\n",
    "    cv_results = cross_val_score(model, X, y, cv=kfold, scoring=scoring)\r\n",
    "    results.append(cv_results)\r\n",
    "    names.append(name)\r\n",
    "    msg = \"%s: %f (%f)\" % (name, cv_results.mean(), cv_results.std())\r\n",
    "    print(msg)\r\n",
    "\r\n",
    "fig = plt.figure()\r\n",
    "fig.suptitle('Algorithm Comparison')\r\n",
    "ax = fig.add_subplot(111)\r\n",
    "plt.boxplot(results)\r\n",
    "ax.set_xticklabels(names)\r\n",
    "plt.show()"
   ]
  },
  {
   "cell_type": "code",
   "execution_count": 96,
   "metadata": {},
   "outputs": [
    {
     "data": {
      "image/png": "[encoded data removed]",
      "text/plain": [
       "<Figure size 432x288 with 1 Axes>"
      ]
     },
     "metadata": {
      "needs_background": "light"
     },
     "output_type": "display_data"
    }
   ],
   "source": [
    "ax = sns.violinplot(x='Class', y='A', data=df, palette='muted', split=True)"
   ]
  },
  {
   "cell_type": "code",
   "execution_count": 90,
   "metadata": {},
   "outputs": [
    {
     "data": {
      "text/html": [
       "<div>\n",
       "<style scoped>\n",
       "    .dataframe tbody tr th:only-of-type {\n",
       "        vertical-align: middle;\n",
       "    }\n",
       "\n",
       "    .dataframe tbody tr th {\n",
       "        vertical-align: top;\n",
       "    }\n",
       "\n",
       "    .dataframe thead th {\n",
       "        text-align: right;\n",
       "    }\n",
       "</style>\n",
       "<table border=\"1\" class=\"dataframe\">\n",
       "  <thead>\n",
       "    <tr style=\"text-align: right;\">\n",
       "      <th></th>\n",
       "      <th>Pregnancies</th>\n",
       "      <th>Glucose</th>\n",
       "      <th>BloodPressure</th>\n",
       "      <th>SkinThickness</th>\n",
       "      <th>Insulin</th>\n",
       "      <th>BMI</th>\n",
       "      <th>DiabetesPedigreeFunction</th>\n",
       "      <th>Age</th>\n",
       "      <th>Outcome</th>\n",
       "    </tr>\n",
       "  </thead>\n",
       "  <tbody>\n",
       "    <tr>\n",
       "      <th>0</th>\n",
       "      <td>6.000000</td>\n",
       "      <td>148.0</td>\n",
       "      <td>72.0</td>\n",
       "      <td>35.000000</td>\n",
       "      <td>220.156268</td>\n",
       "      <td>33.6</td>\n",
       "      <td>0.627</td>\n",
       "      <td>50.0</td>\n",
       "      <td>1</td>\n",
       "    </tr>\n",
       "    <tr>\n",
       "      <th>1</th>\n",
       "      <td>1.000000</td>\n",
       "      <td>85.0</td>\n",
       "      <td>66.0</td>\n",
       "      <td>29.000000</td>\n",
       "      <td>71.708223</td>\n",
       "      <td>26.6</td>\n",
       "      <td>0.351</td>\n",
       "      <td>31.0</td>\n",
       "      <td>0</td>\n",
       "    </tr>\n",
       "    <tr>\n",
       "      <th>2</th>\n",
       "      <td>8.000000</td>\n",
       "      <td>183.0</td>\n",
       "      <td>64.0</td>\n",
       "      <td>21.272711</td>\n",
       "      <td>264.559960</td>\n",
       "      <td>23.3</td>\n",
       "      <td>0.672</td>\n",
       "      <td>32.0</td>\n",
       "      <td>1</td>\n",
       "    </tr>\n",
       "    <tr>\n",
       "      <th>3</th>\n",
       "      <td>1.000000</td>\n",
       "      <td>89.0</td>\n",
       "      <td>66.0</td>\n",
       "      <td>23.000000</td>\n",
       "      <td>94.000000</td>\n",
       "      <td>28.1</td>\n",
       "      <td>0.167</td>\n",
       "      <td>21.0</td>\n",
       "      <td>0</td>\n",
       "    </tr>\n",
       "    <tr>\n",
       "      <th>4</th>\n",
       "      <td>4.228723</td>\n",
       "      <td>137.0</td>\n",
       "      <td>40.0</td>\n",
       "      <td>35.000000</td>\n",
       "      <td>168.000000</td>\n",
       "      <td>43.1</td>\n",
       "      <td>2.288</td>\n",
       "      <td>33.0</td>\n",
       "      <td>1</td>\n",
       "    </tr>\n",
       "    <tr>\n",
       "      <th>...</th>\n",
       "      <td>...</td>\n",
       "      <td>...</td>\n",
       "      <td>...</td>\n",
       "      <td>...</td>\n",
       "      <td>...</td>\n",
       "      <td>...</td>\n",
       "      <td>...</td>\n",
       "      <td>...</td>\n",
       "      <td>...</td>\n",
       "    </tr>\n",
       "    <tr>\n",
       "      <th>763</th>\n",
       "      <td>10.000000</td>\n",
       "      <td>101.0</td>\n",
       "      <td>76.0</td>\n",
       "      <td>48.000000</td>\n",
       "      <td>180.000000</td>\n",
       "      <td>32.9</td>\n",
       "      <td>0.171</td>\n",
       "      <td>63.0</td>\n",
       "      <td>0</td>\n",
       "    </tr>\n",
       "    <tr>\n",
       "      <th>764</th>\n",
       "      <td>2.000000</td>\n",
       "      <td>122.0</td>\n",
       "      <td>70.0</td>\n",
       "      <td>27.000000</td>\n",
       "      <td>160.705646</td>\n",
       "      <td>36.8</td>\n",
       "      <td>0.340</td>\n",
       "      <td>27.0</td>\n",
       "      <td>0</td>\n",
       "    </tr>\n",
       "    <tr>\n",
       "      <th>765</th>\n",
       "      <td>5.000000</td>\n",
       "      <td>121.0</td>\n",
       "      <td>72.0</td>\n",
       "      <td>23.000000</td>\n",
       "      <td>112.000000</td>\n",
       "      <td>26.2</td>\n",
       "      <td>0.245</td>\n",
       "      <td>30.0</td>\n",
       "      <td>0</td>\n",
       "    </tr>\n",
       "    <tr>\n",
       "      <th>766</th>\n",
       "      <td>1.000000</td>\n",
       "      <td>126.0</td>\n",
       "      <td>60.0</td>\n",
       "      <td>28.201450</td>\n",
       "      <td>178.033117</td>\n",
       "      <td>30.1</td>\n",
       "      <td>0.349</td>\n",
       "      <td>47.0</td>\n",
       "      <td>1</td>\n",
       "    </tr>\n",
       "    <tr>\n",
       "      <th>767</th>\n",
       "      <td>1.000000</td>\n",
       "      <td>93.0</td>\n",
       "      <td>70.0</td>\n",
       "      <td>31.000000</td>\n",
       "      <td>88.198512</td>\n",
       "      <td>30.4</td>\n",
       "      <td>0.315</td>\n",
       "      <td>23.0</td>\n",
       "      <td>0</td>\n",
       "    </tr>\n",
       "  </tbody>\n",
       "</table>\n",
       "<p>768 rows × 9 columns</p>\n",
       "</div>"
      ],
      "text/plain": [
       "     Pregnancies  Glucose  BloodPressure  SkinThickness     Insulin   BMI  \\\n",
       "0       6.000000    148.0           72.0      35.000000  220.156268  33.6   \n",
       "1       1.000000     85.0           66.0      29.000000   71.708223  26.6   \n",
       "2       8.000000    183.0           64.0      21.272711  264.559960  23.3   \n",
       "3       1.000000     89.0           66.0      23.000000   94.000000  28.1   \n",
       "4       4.228723    137.0           40.0      35.000000  168.000000  43.1   \n",
       "..           ...      ...            ...            ...         ...   ...   \n",
       "763    10.000000    101.0           76.0      48.000000  180.000000  32.9   \n",
       "764     2.000000    122.0           70.0      27.000000  160.705646  36.8   \n",
       "765     5.000000    121.0           72.0      23.000000  112.000000  26.2   \n",
       "766     1.000000    126.0           60.0      28.201450  178.033117  30.1   \n",
       "767     1.000000     93.0           70.0      31.000000   88.198512  30.4   \n",
       "\n",
       "     DiabetesPedigreeFunction   Age  Outcome  \n",
       "0                       0.627  50.0        1  \n",
       "1                       0.351  31.0        0  \n",
       "2                       0.672  32.0        1  \n",
       "3                       0.167  21.0        0  \n",
       "4                       2.288  33.0        1  \n",
       "..                        ...   ...      ...  \n",
       "763                     0.171  63.0        0  \n",
       "764                     0.340  27.0        0  \n",
       "765                     0.245  30.0        0  \n",
       "766                     0.349  47.0        1  \n",
       "767                     0.315  23.0        0  \n",
       "\n",
       "[768 rows x 9 columns]"
      ]
     },
     "execution_count": 90,
     "metadata": {},
     "output_type": "execute_result"
    }
   ],
   "source": [
    "df = pd.read_csv('diabetes.csv')\r\n",
    "\r\n",
    "df[list(df.columns)[:-1]] = df[list(df.columns)[:-1]].replace(0, np.NaN)\r\n",
    "df[list(df.columns)[:-1]] = pd.DataFrame(IterativeImputer(max_iter=10, random_state=0).fit_transform(df[list(df.columns)[:-1]]), columns=df[list(df.columns)[:-1]].columns)\r\n",
    "\r\n",
    "df"
   ]
  },
  {
   "cell_type": "code",
   "execution_count": 91,
   "metadata": {},
   "outputs": [],
   "source": [
    "df.loc[:,'N1']=0\r\n",
    "df.loc[(df['Age']<=30) & (df['Glucose']<=120),'N1']=1\r\n",
    "df.loc[:,'N2']=0\r\n",
    "df.loc[(df['BMI']<=30),'N2']=1\r\n",
    "df.loc[:,'N3']=0\r\n",
    "df.loc[(df['Age']<=30) & (df['Pregnancies']<=6),'N3']=1\r\n",
    "df.loc[:,'N4']=0\r\n",
    "df.loc[(df['Glucose']<=105) & (df['BloodPressure']<=80),'N4']=1\r\n",
    "df.loc[:,'N5']=0\r\n",
    "df.loc[(df['SkinThickness']<=20) ,'N5']=1\r\n",
    "df.loc[:,'N6']=0\r\n",
    "df.loc[(df['BMI']<30) & (df['SkinThickness']<=20),'N6']=1\r\n",
    "df.loc[:,'N7']=0\r\n",
    "df.loc[(df['Glucose']<=105) & (df['BMI']<=30),'N7']=1\r\n",
    "df.loc[:,'N9']=0\r\n",
    "df.loc[(df['Insulin']<200),'N9']=1\r\n",
    "df.loc[:,'N10']=0\r\n",
    "df.loc[(df['BloodPressure']<80),'N10']=1\r\n",
    "df.loc[:,'N11']=0\r\n",
    "df.loc[(df['Pregnancies']<4) & (df['Pregnancies']!=0) ,'N11']=1\r\n",
    "df['N0'] = df['BMI'] * df['SkinThickness']\r\n",
    "\r\n",
    "df['N8'] =  df['Pregnancies'] / df['Age']\r\n",
    "\r\n",
    "df['N13'] = df['Glucose'] / df['DiabetesPedigreeFunction']\r\n",
    "\r\n",
    "df['N12'] = df['Age'] * df['DiabetesPedigreeFunction']\r\n",
    "\r\n",
    "df['N14'] = df['Age'] / df['Insulin']\r\n",
    "\r\n",
    "df.loc[:,'N15']=0\r\n",
    "df.loc[(df['N0']<1034) ,'N15']=1\r\n",
    "\r\n",
    "target_col = [\"Outcome\"]\r\n",
    "cat_cols   = df.nunique()[df.nunique() < 12].keys().tolist()\r\n",
    "cat_cols   = [x for x in cat_cols ]\r\n",
    "#numerical columns\r\n",
    "num_cols   = [x for x in df.columns if x not in cat_cols + target_col]\r\n",
    "#Binary columns with 2 values\r\n",
    "bin_cols   = df.nunique()[df.nunique() == 2].keys().tolist()\r\n",
    "#Columns more than 2 values\r\n",
    "multi_cols = [i for i in cat_cols if i not in bin_cols]\r\n",
    "\r\n",
    "#Label encoding Binary columns\r\n",
    "le = LabelEncoder()\r\n",
    "for i in bin_cols :\r\n",
    "    df[i] = le.fit_transform(df[i])\r\n",
    "    \r\n",
    "#Duplicating columns for multi value columns\r\n",
    "df = pd.get_dummies(data = df,columns = multi_cols )\r\n",
    "\r\n",
    "#Scaling Numerical columns\r\n",
    "std = StandardScaler()\r\n",
    "scaled = std.fit_transform(df[num_cols])\r\n",
    "scaled = pd.DataFrame(scaled,columns=num_cols)\r\n",
    "\r\n",
    "#dropping original values merging scaled values for numerical columns\r\n",
    "df_df_og = df.copy()\r\n",
    "df = df.drop(columns = num_cols,axis = 1)\r\n",
    "df = df.merge(scaled,left_index=True,right_index=True,how = \"left\")\r\n",
    "\r\n",
    "X = df.drop(columns=['Outcome'])\r\n",
    "y = df['Outcome']"
   ]
  },
  {
   "cell_type": "code",
   "execution_count": 95,
   "metadata": {},
   "outputs": [
    {
     "data": {
      "text/plain": [
       "{'min_samples_split': 2,\n",
       " 'max_depth': 4,\n",
       " 'criterion': 'entropy',\n",
       " 'class_weight': None}"
      ]
     },
     "execution_count": 95,
     "metadata": {},
     "output_type": "execute_result"
    }
   ],
   "source": [
    "param = {'criterion': ['gini', 'entropy'],\r\n",
    "         'max_depth': [1, 2, 3, 4, 5, 6, 7],\r\n",
    "         'min_samples_split': [2, 3, 4],\r\n",
    "         'class_weight': [None, 'balanced']}\r\n",
    "\r\n",
    "clf = RandomizedSearchCV(DecisionTreeClassifier(random_state=0), param, n_iter=100, scoring='accuracy', n_jobs=-1, cv=5, random_state=0)\r\n",
    "search = clf.fit(X, y)\r\n",
    "search.best_params_"
   ]
  },
  {
   "cell_type": "code",
   "execution_count": 143,
   "metadata": {},
   "outputs": [
    {
     "data": {
      "text/plain": [
       "(76.29528366370474, 4.144006100570982)"
      ]
     },
     "execution_count": 143,
     "metadata": {},
     "output_type": "execute_result"
    }
   ],
   "source": [
    "kfold = KFold(n_splits=10, shuffle=True, random_state=0)\r\n",
    "\r\n",
    "model = DecisionTreeClassifier(**search.best_params_)\r\n",
    "\r\n",
    "scores = []\r\n",
    "for train_index , test_index in kfold.split(X):\r\n",
    "    X_train , X_test = X.iloc[train_index,:],X.iloc[test_index,:]\r\n",
    "    y_train , y_test = y[train_index] , y[test_index]\r\n",
    "    # outlier_filter = (np.abs(stats.zscore(X_train)) < 3).all(axis=1)\r\n",
    "    # X_train = X_train[outlier_filter]\r\n",
    "    # y_train = y_train[outlier_filter]\r\n",
    "    # X_train, y_train = ADASYN(random_state=0, sampling_strategy={0: 10000, 1:10000}).fit_resample(X_train, y_train)\r\n",
    "    model.fit(X_train,y_train)\r\n",
    "    y_pred = model.predict(X_test)\r\n",
    "    # sns.heatmap(confusion_matrix(y_test, y_pred), annot=True, fmt='g')\r\n",
    "    # plt.show()\r\n",
    "    scores.append(accuracy_score(y_test, y_pred) * 100)\r\n",
    "\r\n",
    "np.mean(scores), np.std(scores)"
   ]
  },
  {
   "cell_type": "code",
   "execution_count": 112,
   "metadata": {},
   "outputs": [
    {
     "name": "stdout",
     "output_type": "stream",
     "text": [
      "Fitting 10 folds for each of 300 candidates, totalling 3000 fits\n"
     ]
    },
    {
     "data": {
      "text/plain": [
       "{'colsample_bytree': 0.9774461647652988,\n",
       " 'learning_rate': 0.1,\n",
       " 'max_depth': 5,\n",
       " 'min_child_samples': 128,\n",
       " 'min_child_weight': 0.001,\n",
       " 'n_estimators': 600,\n",
       " 'num_leaves': 31,\n",
       " 'reg_alpha': 7,\n",
       " 'reg_lambda': 1,\n",
       " 'subsample': 0.32980144821712076}"
      ]
     },
     "execution_count": 112,
     "metadata": {},
     "output_type": "execute_result"
    }
   ],
   "source": [
    "import lightgbm as lgbm\r\n",
    "from scipy.stats import randint as sp_randint\r\n",
    "from scipy.stats import uniform as sp_uniform\r\n",
    "\r\n",
    "random_state=0\r\n",
    "\r\n",
    "fit_params = {\"early_stopping_rounds\" : 100, \r\n",
    "             \"eval_metric\" : 'auc', \r\n",
    "             \"eval_set\" : [(X, y)],\r\n",
    "             'eval_names': ['valid'],\r\n",
    "             'verbose': 0,\r\n",
    "             'categorical_feature': 'auto'}\r\n",
    "\r\n",
    "param_test = {'learning_rate' : [0.01, 0.02, 0.03, 0.04, 0.05, 0.08, 0.1, 0.2, 0.3, 0.4],\r\n",
    "              'n_estimators' : [100, 200, 300, 400, 500, 600, 800, 1000, 1500, 2000],\r\n",
    "              'num_leaves': sp_randint(6, 50), \r\n",
    "              'min_child_samples': sp_randint(100, 500), \r\n",
    "              'min_child_weight': [1e-5, 1e-3, 1e-2, 1e-1, 1, 1e1, 1e2, 1e3, 1e4],\r\n",
    "              'subsample': sp_uniform(loc=0.2, scale=0.8), \r\n",
    "              'max_depth': [-1, 1, 2, 3, 4, 5, 6, 7],\r\n",
    "              'colsample_bytree': sp_uniform(loc=0.4, scale=0.6),\r\n",
    "              'reg_alpha': [0, 1e-1, 1, 2, 5, 7, 10, 50, 100],\r\n",
    "              'reg_lambda': [0, 1e-1, 1, 5, 10, 20, 50, 100]}\r\n",
    "\r\n",
    "#number of combinations\r\n",
    "n_iter = 300\r\n",
    "\r\n",
    "#intialize lgbm and lunch the search\r\n",
    "lgbm_clf = lgbm.LGBMClassifier(random_state=random_state, silent=True, metric='None', n_jobs=-1)\r\n",
    "grid_search = RandomizedSearchCV(\r\n",
    "    estimator=lgbm_clf, param_distributions=param_test, \r\n",
    "    n_iter=n_iter,\r\n",
    "    scoring='accuracy',\r\n",
    "    cv=10,\r\n",
    "    refit=True,\r\n",
    "    random_state=random_state,\r\n",
    "    verbose=True)\r\n",
    "\r\n",
    "grid_search.fit(X, y, **fit_params)\r\n",
    "opt_parameters =  grid_search.best_params_\r\n",
    "lgbm_clf = lgbm.LGBMClassifier(**opt_parameters)\r\n",
    "\r\n",
    "opt_parameters"
   ]
  },
  {
   "cell_type": "code",
   "execution_count": 128,
   "metadata": {},
   "outputs": [
    {
     "data": {
      "text/plain": [
       "(76.03725222146275, 4.933069629279677)"
      ]
     },
     "execution_count": 128,
     "metadata": {},
     "output_type": "execute_result"
    }
   ],
   "source": [
    "kfold = KFold(n_splits=10, shuffle=True, random_state=0)\r\n",
    "\r\n",
    "model = lgbm.LGBMClassifier(\r\n",
    "    colsample_bytree= 0.9774461647652988,\r\n",
    "    learning_rate= 0.1,\r\n",
    "    max_depth= 5,\r\n",
    "    min_child_samples= 128,\r\n",
    "    min_child_weight= 0.001,\r\n",
    "    n_estimators= 600,\r\n",
    "    num_leaves= 31,\r\n",
    "    reg_alpha= 7,\r\n",
    "    reg_lambda= 1,\r\n",
    "    subsample= 0.32980144821712076)\r\n",
    "\r\n",
    "scores = []\r\n",
    "for train_index , test_index in kfold.split(X):\r\n",
    "    X_train , X_test = X.iloc[train_index,:],X.iloc[test_index,:]\r\n",
    "    y_train , y_test = y[train_index] , y[test_index]\r\n",
    "    # outlier_filter = (np.abs(stats.zscore(X_train)) < 3).all(axis=1)\r\n",
    "    # X_train = X_train[outlier_filter]\r\n",
    "    # y_train = y_train[outlier_filter]\r\n",
    "    X_train, y_train = ADASYN(random_state=0).fit_resample(X_train, y_train)\r\n",
    "    model.fit(X_train,y_train)\r\n",
    "    y_pred = model.predict(X_test)\r\n",
    "    # sns.heatmap(confusion_matrix(y_test, y_pred), annot=True, fmt='g')\r\n",
    "    # plt.show()\r\n",
    "    scores.append(accuracy_score(y_test, y_pred) * 100)\r\n",
    "\r\n",
    "np.mean(scores), np.std(scores)"
   ]
  },
  {
   "cell_type": "code",
   "execution_count": null,
   "metadata": {},
   "outputs": [],
   "source": []
  }
 ],
 "metadata": {
  "interpreter": {
   "hash": "1baa965d5efe3ac65b79dfc60c0d706280b1da80fedb7760faf2759126c4f253"
  },
  "kernelspec": {
   "display_name": "Python 3.8.7 64-bit",
   "name": "python3"
  },
  "language_info": {
   "codemirror_mode": {
    "name": "ipython",
    "version": 3
   },
   "file_extension": ".py",
   "mimetype": "text/x-python",
   "name": "python",
   "nbconvert_exporter": "python",
   "pygments_lexer": "ipython3",
   "version": "3.8.7"
  },
  "orig_nbformat": 4
 },
 "nbformat": 4,
 "nbformat_minor": 2
}